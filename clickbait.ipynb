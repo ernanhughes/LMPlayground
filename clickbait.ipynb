{
  "cells": [
    {
      "cell_type": "markdown",
      "metadata": {
        "id": "KGm1Mrw21Cqm"
      },
      "source": [
        "# Clickbait Generator\n",
        "Give me those clicks!!!\n",
        "Data taken from https://github.com/bhargaviparanjape/clickbait"
      ]
    },
    {
      "cell_type": "markdown",
      "metadata": {
        "id": "m8LOxA7y1Cqn"
      },
      "source": [
        "## Data Processing\n",
        "1. Extract archived data\n",
        "2. Add end_of_headline terminator word\n",
        "3. Tokenize titles\n",
        "4. Split into X and Y data"
      ]
    },
    {
      "cell_type": "code",
      "execution_count": null,
      "metadata": {
        "id": "1OFZumkk1Cqn"
      },
      "outputs": [],
      "source": [
        "from tensorflow.keras.preprocessing.text import Tokenizer\n",
        "from tensorflow.keras.preprocessing.sequence import pad_sequences\n",
        "from tensorflow.keras.utils import to_categorical, get_file\n",
        "\n",
        "import gzip\n",
        "import numpy as np\n",
        "\n",
        "vocab_size = 7000\n",
        "sample_length = 20\n",
        "step = 1\n",
        "end_of_headline = 'eoh'"
      ]
    },
    {
      "cell_type": "code",
      "execution_count": null,
      "metadata": {
        "id": "GAF1Mnjh1Cqo"
      },
      "outputs": [],
      "source": [
        "def load_text():\n",
        "    data_file = get_file(\"clicks\", \"https://raw.githubusercontent.com/bhargaviparanjape/clickbait/master/dataset/clickbait_data.gz\")\n",
        "    with gzip.open(data_file, 'rt') as f:\n",
        "        return f.read().replace('\\n\\n', f\" {end_of_headline} \")\n",
        "\n",
        "def split_into_samples(text):\n",
        "    samples = []\n",
        "    next_words = []\n",
        "\n",
        "    for i in range(0, len(text) - sample_length, step):\n",
        "        samples.append(text[i:i + sample_length])\n",
        "        next_words.append(text[i+sample_length])\n",
        "\n",
        "    p = np.random.permutation(len(samples))\n",
        "    return np.asarray(samples)[p], np.asarray(next_words)[p]"
      ]
    },
    {
      "cell_type": "code",
      "execution_count": null,
      "metadata": {
        "id": "dKxgHXsT1Cqo"
      },
      "outputs": [],
      "source": [
        "np.random.seed(0)\n",
        "\n",
        "text = load_text()\n",
        "\n",
        "tokenizer = Tokenizer(num_words=vocab_size)\n",
        "tokenizer.fit_on_texts([text])\n",
        "text = tokenizer.texts_to_sequences([text])[0]\n",
        "X, Y = split_into_samples(text)\n",
        "\n",
        "print(f\"{len(tokenizer.word_index)} unique words\")\n",
        "print(f\"{len(X)} samples\")\n",
        "Y = to_categorical(Y, num_classes=vocab_size, dtype='bool')\n"
      ]
    },
    {
      "cell_type": "markdown",
      "metadata": {
        "id": "fnmkrrxq1Cqo"
      },
      "source": [
        "## LSTM Model\n",
        "Uses trained word embeddings"
      ]
    },
    {
      "cell_type": "code",
      "execution_count": null,
      "metadata": {
        "id": "MgokXdrD1Cqo"
      },
      "outputs": [],
      "source": [
        "import matplotlib.pyplot as plt\n",
        "import tensorflow as tf\n",
        "from tensorflow.keras.layers import Input, LSTM, Dense, Embedding, Dropout\n",
        "from tensorflow.keras.models import Model\n",
        "from tensorflow.keras.callbacks import Callback, EarlyStopping\n",
        "\n",
        "physical_devices = tf.config.list_physical_devices('GPU')\n",
        "print(\"Num GPUs Available: \", len(physical_devices))"
      ]
    },
    {
      "cell_type": "code",
      "execution_count": null,
      "metadata": {
        "id": "AWUyRrIB1Cqo"
      },
      "outputs": [],
      "source": [
        "def create_model(sample_length, vocab_size):\n",
        "    input_layer = Input(shape=(sample_length,))\n",
        "\n",
        "    m = Embedding(vocab_size, 10, input_length=sample_length)(input_layer)\n",
        "    m = LSTM(256, dropout=0.2, return_sequences=True)(m)\n",
        "    m = LSTM(256, dropout=0.2)(m)\n",
        "    m = Dense(300, activation='relu')(m)\n",
        "    m = Dropout(0.2)(m)\n",
        "    m = Dense(vocab_size, activation='softmax')(m)\n",
        "\n",
        "    model = Model(inputs=[input_layer], outputs=m)\n",
        "\n",
        "    return model\n",
        "\n",
        "def make_plots(history):\n",
        "    acc = history.history['accuracy']\n",
        "    val_acc = history.history['val_accuracy']\n",
        "    loss = history.history['loss']\n",
        "    val_loss = history.history['val_loss']\n",
        "\n",
        "    epochs = range(1, len(acc) + 1)\n",
        "\n",
        "    plt.plot(epochs, acc, 'bo', label='Training accuracy')\n",
        "    plt.plot(epochs, val_acc, 'b', label='Validation accuracy')\n",
        "    plt.title('Accuracy')\n",
        "    plt.legend()\n",
        "\n",
        "    plt.figure()\n",
        "    plt.plot(epochs, loss, 'bo', label='Training loss')\n",
        "    plt.plot(epochs, val_loss, 'b', label='Validation loss')\n",
        "    plt.title('Loss')\n",
        "    plt.legend()\n",
        "\n",
        "    plt.show()"
      ]
    },
    {
      "cell_type": "code",
      "execution_count": null,
      "metadata": {
        "id": "ZTa8cbR71Cqp"
      },
      "outputs": [],
      "source": [
        "model = create_model(sample_length, vocab_size)\n",
        "model.compile(optimizer='adam', loss='categorical_crossentropy', metrics=['accuracy'])\n",
        "model.summary()"
      ]
    },
    {
      "cell_type": "markdown",
      "metadata": {
        "id": "iGhzLzuO1Cqp"
      },
      "source": [
        "## Prediction"
      ]
    },
    {
      "cell_type": "code",
      "execution_count": null,
      "metadata": {
        "id": "2A8a7j5q1Cqp"
      },
      "outputs": [],
      "source": [
        "# temperature sampling based on Deep Learning book\n",
        "def sample(preds, temperature):\n",
        "    preds = np.asarray(preds).astype('float64')\n",
        "    preds = np.log(preds) / temperature\n",
        "    exp_preds = np.exp(preds)\n",
        "    preds = exp_preds / np.sum(exp_preds)\n",
        "    probs = np.random.multinomial(1, preds, 1)\n",
        "    return np.argmax(probs)\n",
        "\n",
        "def generate_seq(model, tokenizer, seq_length, seed_text, n_words, temperature = 0.5):\n",
        "    result = seed_text.replace(end_of_headline, '').split()\n",
        "    in_text = seed_text\n",
        "    first = True\n",
        "\n",
        "    for _ in range(n_words):\n",
        "        encoded = tokenizer.texts_to_sequences([in_text])[0]\n",
        "        encoded = pad_sequences([encoded], maxlen=seq_length, truncating='pre')\n",
        "        preds = model.predict(encoded, verbose=0)\n",
        "\n",
        "        # sample first word with higher temperature\n",
        "        if first:\n",
        "            first = False\n",
        "            yhat = sample(preds[0], temperature + 0.3)\n",
        "        else:\n",
        "            yhat = sample(preds[0], temperature)\n",
        "\n",
        "        out_word = 'X'\n",
        "        for word, index in tokenizer.word_index.items():\n",
        "            if index == yhat:\n",
        "                out_word = word\n",
        "                break\n",
        "        if out_word == end_of_headline:\n",
        "            break\n",
        "\n",
        "        in_text += ' ' + out_word\n",
        "        result.append(out_word)\n",
        "    return ' '.join(result)\n",
        "\n",
        "# Callback that generates some text after each epoch\n",
        "class GenerationCallback(Callback):\n",
        "\n",
        "    def __init__(self, seed_text=\"\", num_examples=5):\n",
        "        self.seed_text = seed_text\n",
        "        self.num_examples = num_examples\n",
        "\n",
        "    def on_epoch_end(self, epoch, logs=None):\n",
        "        print(\"\\n\\nExample headlines\")\n",
        "        for i in range(0, self.num_examples):\n",
        "            output = generate_seq(model, tokenizer, sample_length, self.seed_text, 20, .5)\n",
        "            print(f\"{i} {output}\")\n",
        "        print(\"\")"
      ]
    },
    {
      "cell_type": "code",
      "execution_count": null,
      "metadata": {
        "scrolled": true,
        "id": "3KEw0UbF1Cqp"
      },
      "outputs": [],
      "source": [
        "callbacks = [\n",
        "    GenerationCallback(\"eoh\", 3),\n",
        "    EarlyStopping(monitor='val_loss', restore_best_weights=True, patience=5)\n",
        "]\n",
        "\n",
        "history = model.fit(X, Y, batch_size=100, epochs=50, validation_split=0.05, callbacks=callbacks)"
      ]
    },
    {
      "cell_type": "code",
      "execution_count": null,
      "metadata": {
        "id": "vDrZBJfL1Cqp"
      },
      "outputs": [],
      "source": [
        "model.save('vocab2000_lstm256.h5')\n",
        "print(f\"Best validation accuracy {np.amax(history.history['val_accuracy'])}\")\n",
        "make_plots(history)"
      ]
    },
    {
      "cell_type": "code",
      "execution_count": null,
      "metadata": {
        "id": "CzyB7VkX1Cqp"
      },
      "outputs": [],
      "source": [
        "# compare models\n",
        "def test_model(model):\n",
        "    for i in range(0,10):\n",
        "        output = generate_seq(model, tokenizer, sample_length, end_of_headline, 20, .5)\n",
        "        print(f\"{i} {output}\")\n",
        "\n",
        "print(\"Latest:\")\n",
        "test_model(model)\n",
        "\n",
        "print(\"\\n\\n512-512 with pre-trained embeddings:\")\n",
        "big_model = tf.keras.models.load_model(\"512-512.h5\")\n",
        "test_model(big_model)\n",
        "\n",
        "print(\"\\n\\n256 with vocab 1000 and trained embeddings:\")\n",
        "small_model = tf.keras.models.load_model(\"vocab1000_lstm256.h5\")\n",
        "test_model(small_model)\n",
        "\n"
      ]
    },
    {
      "cell_type": "markdown",
      "metadata": {
        "id": "cLlC5sMd1Cqp"
      },
      "source": [
        "## Results\n",
        "My favorite results so far\n",
        "- we know your zodiac sign based on your zodiac sign\n",
        "- are you more like more dog or a dog\n",
        "- the 17 most important canadian celebrity moments of 2015\n",
        "- here's how to make a vampire\n",
        "- can you guess your favorite '90s movie based on your favorite kitten\n",
        "- are you more a canadian or taylor swift or oprah\n",
        "- 17 insanely delicious ways to eat your family\n",
        "- we know your favorite pop thing based on your zodiac sign"
      ]
    },
    {
      "cell_type": "code",
      "execution_count": null,
      "metadata": {
        "id": "AVvEFdZk1Cqp"
      },
      "outputs": [],
      "source": []
    },
    {
      "cell_type": "code",
      "execution_count": null,
      "metadata": {
        "id": "Fi6xET681Cqp"
      },
      "outputs": [],
      "source": []
    }
  ],
  "metadata": {
    "kernelspec": {
      "display_name": "Python 3",
      "language": "python",
      "name": "python3"
    },
    "language_info": {
      "codemirror_mode": {
        "name": "ipython",
        "version": 3
      },
      "file_extension": ".py",
      "mimetype": "text/x-python",
      "name": "python",
      "nbconvert_exporter": "python",
      "pygments_lexer": "ipython3",
      "version": "3.6.9"
    },
    "colab": {
      "provenance": []
    }
  },
  "nbformat": 4,
  "nbformat_minor": 0
}