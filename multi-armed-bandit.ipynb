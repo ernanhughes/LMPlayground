{
  "cells": [
    {
      "cell_type": "markdown",
      "metadata": {
        "id": "yXlrqhFc2Y0r"
      },
      "source": [
        "# Santa 2020 - The Candy Cane Contest\n",
        "\n",
        "Bayesian UCB agent inspired by https://lilianweng.github.io/lil-log/2018/01/23/the-multi-armed-bandit-problem-and-its-solutions.html  \n",
        "Thompson Sampling agent inspired by https://www.kaggle.com/ilialar/simple-multi-armed-bandit  \n",
        "Training data collection inspired by https://www.kaggle.com/lebroschar/1000-greedy-decision-tree-model  \n",
        "Ray support from https://www.kaggle.com/nigelcarpenter/parallel-processing-agent-trials-using-ray  \n",
        "Pull Vegas agent, I never submitted this since it's not my work, but it was useful to train against https://www.kaggle.com/a763337092/pull-vegas-slot-machines-add-weaken-rate-continue5  "
      ]
    },
    {
      "cell_type": "code",
      "execution_count": null,
      "metadata": {
        "_cell_guid": "b1076dfc-b9ad-4769-8c92-a6c4dae69d19",
        "_uuid": "8f2839f25d086af736a60e9eeb907d3b93b6e0e5",
        "id": "kX8NNiEZ2Y0s"
      },
      "outputs": [],
      "source": [
        "# This Python 3 environment comes with many helpful analytics libraries installed\n",
        "# It is defined by the kaggle/python Docker image: https://github.com/kaggle/docker-python\n",
        "# For example, here's several helpful packages to load\n",
        "\n",
        "import numpy as np # linear algebra\n",
        "import joblib\n",
        "import os\n",
        "import pandas as pd # data processing, CSV file I/O (e.g. pd.read_csv)\n",
        "import pickle\n",
        "import matplotlib.pyplot as plt\n",
        "import ray\n",
        "\n",
        "# my helper files\n",
        "import simulator\n",
        "import stats\n",
        "\n",
        "# agents\n",
        "from agents.classifier import ClassifierAgent\n",
        "from agents.ensemble import EnsembleAgent\n",
        "from agents.keras import KerasAgent\n",
        "from agents.pull_vegas import PullVegasAgent\n",
        "from agents.random import RandomAgent\n",
        "from agents.sklearn import SklearnAgent\n",
        "from agents.thompson import ThompsonAgent\n",
        "from agents.ucb import UcbAgent\n"
      ]
    },
    {
      "cell_type": "code",
      "execution_count": null,
      "metadata": {
        "id": "Wj1weGXe2Y0s",
        "outputId": "b74cd4df-c025-4e4f-fc93-6aec435f92f3"
      },
      "outputs": [
        {
          "name": "stderr",
          "output_type": "stream",
          "text": [
            "2021-02-21 12:48:37,732\tINFO services.py:1171 -- View the Ray dashboard at \u001b[1m\u001b[32mhttp://127.0.0.1:8265\u001b[39m\u001b[22m\n"
          ]
        },
        {
          "name": "stdout",
          "output_type": "stream",
          "text": [
            "Initialized ray with 6 cpus\n"
          ]
        }
      ],
      "source": [
        "import psutil\n",
        "\n",
        "num_cpus = psutil.cpu_count(logical=False)\n",
        "ray.shutdown()\n",
        "ray.init(num_cpus=num_cpus)\n",
        "print(f\"Initialized ray with {num_cpus} cpus\")"
      ]
    },
    {
      "cell_type": "code",
      "execution_count": null,
      "metadata": {
        "id": "e8_WLV182Y0t"
      },
      "outputs": [],
      "source": [
        "# sanity check to make sure everything is working\n",
        "\n",
        "simulator.smoke_test(ClassifierAgent(100, filename='rl_models/latest.h5'))\n",
        "simulator.smoke_test(KerasAgent(100, filename='keras_models/l3_u8_relu.h5'))\n",
        "simulator.smoke_test(SklearnAgent(100, filename='scikit_models/dtr.joblib'))\n",
        "simulator.smoke_test(EnsembleAgent(100, keras_file='keras_models/l3_u8_relu.h5', scikit_file='scikit_models/dtr.joblib'))\n",
        "simulator.smoke_test(RandomAgent())"
      ]
    },
    {
      "cell_type": "markdown",
      "metadata": {
        "id": "rrUh8_Aj2Y0t"
      },
      "source": [
        "# Load Training Data\n",
        "\n",
        "Online game data contain the fame state at each step, including the actual payout of each bandit."
      ]
    },
    {
      "cell_type": "code",
      "execution_count": null,
      "metadata": {
        "id": "ZRep6K_t2Y0t",
        "outputId": "7a6991c3-741c-45aa-aa5b-7591d822d287"
      },
      "outputs": [
        {
          "name": "stdout",
          "output_type": "stream",
          "text": [
            "\n",
            "Loaded 46113452 training rows\n",
            "CPU times: user 8.17 s, sys: 2.58 s, total: 10.7 s\n",
            "Wall time: 11.3 s\n"
          ]
        },
        {
          "data": {
            "text/html": [
              "<div>\n",
              "<style scoped>\n",
              "    .dataframe tbody tr th:only-of-type {\n",
              "        vertical-align: middle;\n",
              "    }\n",
              "\n",
              "    .dataframe tbody tr th {\n",
              "        vertical-align: top;\n",
              "    }\n",
              "\n",
              "    .dataframe thead th {\n",
              "        text-align: right;\n",
              "    }\n",
              "</style>\n",
              "<table border=\"1\" class=\"dataframe\">\n",
              "  <thead>\n",
              "    <tr style=\"text-align: right;\">\n",
              "      <th></th>\n",
              "      <th>game_id</th>\n",
              "      <th>step</th>\n",
              "      <th>machine</th>\n",
              "      <th>agent</th>\n",
              "      <th>n_pulls</th>\n",
              "      <th>n_success</th>\n",
              "      <th>n_opp_pulls</th>\n",
              "      <th>streak</th>\n",
              "      <th>opp_streak</th>\n",
              "      <th>win_streak</th>\n",
              "      <th>threshold</th>\n",
              "    </tr>\n",
              "  </thead>\n",
              "  <tbody>\n",
              "    <tr>\n",
              "      <th>0</th>\n",
              "      <td>8765201</td>\n",
              "      <td>319</td>\n",
              "      <td>30</td>\n",
              "      <td>1</td>\n",
              "      <td>4</td>\n",
              "      <td>2</td>\n",
              "      <td>3</td>\n",
              "      <td>4</td>\n",
              "      <td>1</td>\n",
              "      <td>0</td>\n",
              "      <td>0.274714</td>\n",
              "    </tr>\n",
              "    <tr>\n",
              "      <th>1</th>\n",
              "      <td>9963293</td>\n",
              "      <td>420</td>\n",
              "      <td>58</td>\n",
              "      <td>1</td>\n",
              "      <td>3</td>\n",
              "      <td>1</td>\n",
              "      <td>19</td>\n",
              "      <td>0</td>\n",
              "      <td>1</td>\n",
              "      <td>0</td>\n",
              "      <td>0.399092</td>\n",
              "    </tr>\n",
              "    <tr>\n",
              "      <th>2</th>\n",
              "      <td>14292406</td>\n",
              "      <td>912</td>\n",
              "      <td>97</td>\n",
              "      <td>0</td>\n",
              "      <td>15</td>\n",
              "      <td>7</td>\n",
              "      <td>10</td>\n",
              "      <td>1</td>\n",
              "      <td>0</td>\n",
              "      <td>0</td>\n",
              "      <td>0.130753</td>\n",
              "    </tr>\n",
              "    <tr>\n",
              "      <th>3</th>\n",
              "      <td>12305211</td>\n",
              "      <td>247</td>\n",
              "      <td>73</td>\n",
              "      <td>0</td>\n",
              "      <td>3</td>\n",
              "      <td>2</td>\n",
              "      <td>4</td>\n",
              "      <td>1</td>\n",
              "      <td>0</td>\n",
              "      <td>1</td>\n",
              "      <td>0.654466</td>\n",
              "    </tr>\n",
              "    <tr>\n",
              "      <th>4</th>\n",
              "      <td>12192192</td>\n",
              "      <td>1331</td>\n",
              "      <td>19</td>\n",
              "      <td>0</td>\n",
              "      <td>29</td>\n",
              "      <td>16</td>\n",
              "      <td>27</td>\n",
              "      <td>0</td>\n",
              "      <td>1</td>\n",
              "      <td>1</td>\n",
              "      <td>0.148947</td>\n",
              "    </tr>\n",
              "  </tbody>\n",
              "</table>\n",
              "</div>"
            ],
            "text/plain": [
              "    game_id  step  machine  agent  n_pulls  n_success  n_opp_pulls  streak  \\\n",
              "0   8765201   319       30      1        4          2            3       4   \n",
              "1   9963293   420       58      1        3          1           19       0   \n",
              "2  14292406   912       97      0       15          7           10       1   \n",
              "3  12305211   247       73      0        3          2            4       1   \n",
              "4  12192192  1331       19      0       29         16           27       0   \n",
              "\n",
              "   opp_streak  win_streak  threshold  \n",
              "0           1           0   0.274714  \n",
              "1           1           0   0.399092  \n",
              "2           0           0   0.130753  \n",
              "3           0           1   0.654466  \n",
              "4           1           1   0.148947  "
            ]
          },
          "execution_count": 4,
          "metadata": {},
          "output_type": "execute_result"
        }
      ],
      "source": [
        "%%time\n",
        "\n",
        "data = pd.read_parquet('training_data/data.parquet')\n",
        "print(f\"\\nLoaded {data.shape[0]} training rows\")\n",
        "\n",
        "# shuffle training data\n",
        "data = data.sample(frac=1).reset_index(drop=True)\n",
        "\n",
        "X = data[['step', 'n_pulls', 'n_success', 'n_opp_pulls', 'streak', 'win_streak', 'opp_streak']]\n",
        "y = data['threshold']\n",
        "data.head()"
      ]
    },
    {
      "cell_type": "markdown",
      "metadata": {
        "id": "b6IX84DH2Y0t"
      },
      "source": [
        "# Sklearn Models\n",
        "\n",
        "Take training data from top-tier games and find a model that predicts actual payout rates.\n",
        "\n",
        "I used RMSE as my error benchmark, but it did not perfectly predict head-to-head performance. For example, my best Random Forest fits the dataset with a RMSE of 0.104, very similar to my best Decision Tree. However, the Decision Tree models win easily in a head-to-head match. The end goal is to win, not predict rates with maximum accuracy, so I always simulated matches to find which models performed best.\n",
        "\n",
        "Decision Trees performed the best by far in my local matches, easily beating Random Forests and Gradient Boosting Regressors.\n"
      ]
    },
    {
      "cell_type": "code",
      "execution_count": null,
      "metadata": {
        "id": "1t-N5KCw2Y0t"
      },
      "outputs": [],
      "source": [
        "import joblib\n",
        "from sklearn.metrics import mean_squared_error\n",
        "from sklearn.model_selection import cross_val_score\n",
        "\n",
        "def cross_val_rmse(regressor, X, y):\n",
        "    cv = -cross_val_score(regressor, X, y, cv=5, scoring='neg_root_mean_squared_error')\n",
        "    print(\"Cross val RMSE:\", cv)\n",
        "    print(\"Mean:\", cv.mean())\n",
        "\n",
        "def feature_importance(regressor, X, y):\n",
        "    regressor.fit(X, y)\n",
        "    for name, score in zip(X.columns, regressor.feature_importances_):\n",
        "        print(name, score)\n",
        ""
      ]
    },
    {
      "cell_type": "code",
      "execution_count": null,
      "metadata": {
        "id": "7KktcgGE2Y0t",
        "outputId": "172cbb83-a2e9-446f-82d6-53a34fdaa542"
      },
      "outputs": [
        {
          "name": "stdout",
          "output_type": "stream",
          "text": [
            "Cross val RMSE: [0.12015358 0.12003744 0.11991281 0.11990446 0.11994127]\n",
            "Mean: 0.11998991131973413\n"
          ]
        },
        {
          "data": {
            "text/plain": [
              "['scikit_models/lr.joblib']"
            ]
          },
          "execution_count": 6,
          "metadata": {},
          "output_type": "execute_result"
        }
      ],
      "source": [
        "from sklearn.linear_model import LinearRegression\n",
        "\n",
        "lr = LinearRegression()\n",
        "cross_val_rmse(lr, X, y)\n",
        "\n",
        "lr.fit(X, y)\n",
        "joblib.dump(lr, 'scikit_models/lr.joblib')"
      ]
    },
    {
      "cell_type": "code",
      "execution_count": null,
      "metadata": {
        "id": "8A1aXxDR2Y0u"
      },
      "outputs": [],
      "source": [
        "%%time\n",
        "from sklearn.tree import DecisionTreeRegressor\n",
        "\n",
        "min_samples_leaf = [40, 80, 100, 120, 160, 200]\n",
        "\n",
        "for min_leaf in min_samples_leaf:\n",
        "    print(f\"Min leaf {min_leaf}\")\n",
        "    dtr = DecisionTreeRegressor(min_samples_leaf=min_leaf)\n",
        "    dtr.fit(X, y)\n",
        "    error = np.sqrt(mean_squared_error(y, dtr.predict(X)))\n",
        "    print(f\"Min leaf {min_leaf} error = {error}\")\n",
        "    joblib.dump(dtr, f\"scikit_models/dtr_m{min_leaf}.joblib\")\n"
      ]
    },
    {
      "cell_type": "code",
      "execution_count": null,
      "metadata": {
        "id": "Aqiyr0ia2Y0u"
      },
      "outputs": [],
      "source": [
        "agents = [\n",
        "    lambda n: SklearnAgent(n, filename='scikit_models/dtr_m40.joblib'),\n",
        "    lambda n: SklearnAgent(n, filename='scikit_models/dtr_m80.joblib'),\n",
        "    lambda n: SklearnAgent(n, filename='scikit_models/dtr_m100.joblib'),\n",
        "    lambda n: SklearnAgent(n, filename='scikit_models/dtr_m120.joblib'),\n",
        "    lambda n: SklearnAgent(n, filename='scikit_models/dtr_m160.joblib'),\n",
        "    lambda n: SklearnAgent(n, filename='scikit_models/dtr_m200.joblib'),\n",
        "]\n",
        "\n",
        "simulator.rank_agents(agents, num_games=200, min_games=80)"
      ]
    },
    {
      "cell_type": "code",
      "execution_count": null,
      "metadata": {
        "id": "8TMElF3J2Y0u",
        "outputId": "698ce3bf-7513-4624-f2d2-0cce6bde683e"
      },
      "outputs": [
        {
          "name": "stdout",
          "output_type": "stream",
          "text": [
            "Random Forest RMSE: 0.10353480616739692\n",
            "Decision Tree RMSE: 0.10103745235180321\n",
            "Sklearn - scikit_models/rfr.joblib, margin:0.99\n",
            "Sklearn - scikit_models/dtr_m100.joblib, margin:0.99\n",
            "Results after 54 games: 6-48    P(player_1): 0.11±0.08\n",
            "\n"
          ]
        }
      ],
      "source": [
        "from sklearn.ensemble import RandomForestRegressor\n",
        "\n",
        "# Random Forests seem to fit the data well, but they lose horribly in actual competitive matches.\n",
        "\n",
        "# rfr = RandomForestRegressor(n_estimators=100, min_samples_leaf=100, max_depth=10)\n",
        "# rfr.fit(X, y)\n",
        "\n",
        "# joblib.dump(gbr, 'scikit_models/rfr.joblib')\n",
        "\n",
        "rfr = joblib.load('scikit_models/rfr.joblib')\n",
        "print(\"Random Forest RMSE:\", np.sqrt(mean_squared_error(y, rfr.predict(X))))\n",
        "\n",
        "dtr = joblib.load('scikit_models/dtr.joblib')\n",
        "print(\"Decision Tree RMSE:\", np.sqrt(mean_squared_error(y, dtr.predict(X))))\n",
        "\n",
        "agents = [\n",
        "    lambda n: SklearnAgent(n, filename='scikit_models/rfr.joblib'),\n",
        "    lambda n: SklearnAgent(n, filename='scikit_models/dtr_m100.joblib'),\n",
        "]\n",
        "\n",
        "simulator.compare_agents(agents, num_games=200, min_games=50)"
      ]
    },
    {
      "cell_type": "code",
      "execution_count": null,
      "metadata": {
        "id": "eg0q5hHI2Y0u"
      },
      "outputs": [],
      "source": [
        "min_error = 1\n",
        "best = None\n",
        "\n",
        "gbr = GradientBoostingRegressor(max_depth=3, warm_start=True)\n",
        "\n",
        "for i in range(1, 100):\n",
        "    gbr.n_estimators=i\n",
        "    gbr.fit(X, y)\n",
        "    error = np.sqrt(mean_squared_error(y, gbr.predict(X)))\n",
        "    print(f\"n_estimators: {i}, error: {error}\")\n",
        "\n",
        "    if error < min_error:\n",
        "        best = i\n",
        "        min_error = error\n",
        "        joblib.dump(gbr, 'scikit_models/gbr.joblib')\n",
        "\n",
        "print(\"Best n_estimators:\", best)"
      ]
    },
    {
      "cell_type": "code",
      "execution_count": null,
      "metadata": {
        "id": "SGAA_OcL2Y0u",
        "outputId": "ddc050ec-5577-4e17-90a7-ff138b41304a"
      },
      "outputs": [
        {
          "name": "stdout",
          "output_type": "stream",
          "text": [
            "Starting round robin with 4 agents:\n",
            "Sklearn - scikit_models/lr.joblib, margin:0.99\n",
            "Sklearn - scikit_models/gbr_best.joblib, margin:0.99\n",
            "Sklearn - scikit_models/rfr.joblib, margin:0.99\n",
            "Sklearn - scikit_models/dtr_m100.joblib, margin:0.99\n",
            "\n",
            "Starting round 1 of 6:\n",
            "Sklearn - scikit_models/lr.joblib, margin:0.99\n",
            "Sklearn - scikit_models/gbr_best.joblib, margin:0.99\n",
            "Results after 60 games: 0-60    P(player_1): 0.00±0.00\n",
            "\n",
            "Starting round 2 of 6:\n",
            "Sklearn - scikit_models/lr.joblib, margin:0.99\n",
            "Sklearn - scikit_models/rfr.joblib, margin:0.99\n",
            "Results after 60 games: 0-60    P(player_1): 0.00±0.00\n",
            "\n",
            "Starting round 3 of 6:\n",
            "Sklearn - scikit_models/lr.joblib, margin:0.99\n",
            "Sklearn - scikit_models/dtr_m100.joblib, margin:0.99\n",
            "Results after 60 games: 0-60    P(player_1): 0.00±0.00\n",
            "\n",
            "Starting round 4 of 6:\n",
            "Sklearn - scikit_models/gbr_best.joblib, margin:0.99\n",
            "Sklearn - scikit_models/rfr.joblib, margin:0.99\n",
            "Results after 90 games: 34-56    P(player_1): 0.38±0.10\n",
            "\n",
            "Starting round 5 of 6:\n",
            "Sklearn - scikit_models/gbr_best.joblib, margin:0.99\n",
            "Sklearn - scikit_models/dtr_m100.joblib, margin:0.99\n",
            "Results after 60 games: 4-55    P(player_1): 0.07±0.06\n",
            "\n",
            "Starting round 6 of 6:\n",
            "Sklearn - scikit_models/rfr.joblib, margin:0.99\n",
            "Sklearn - scikit_models/dtr_m100.joblib, margin:0.99\n",
            "Results after 60 games: 3-57    P(player_1): 0.05±0.06\n",
            "\n",
            "Sklearn - scikit_models/lr.joblib, margin:0.99: 0-180-0\n",
            "Sklearn - scikit_models/gbr_best.joblib, margin:0.99: 98-111-1\n",
            "Sklearn - scikit_models/rfr.joblib, margin:0.99: 119-91-0\n",
            "Sklearn - scikit_models/dtr_m100.joblib, margin:0.99: 172-7-1\n"
          ]
        },
        {
          "data": {
            "image/png": "[encoded data removed]",
            "text/plain": [
              "<Figure size 432x288 with 1 Axes>"
            ]
          },
          "metadata": {
            "needs_background": "light"
          },
          "output_type": "display_data"
        }
      ],
      "source": [
        "agents = [\n",
        "    lambda n: SklearnAgent(n, filename='scikit_models/lr.joblib'),\n",
        "    lambda n: SklearnAgent(n, filename='scikit_models/gbr_best.joblib'),\n",
        "    lambda n: SklearnAgent(n, filename='scikit_models/rfr.joblib'),\n",
        "    lambda n: SklearnAgent(n, filename='scikit_models/dtr_m100.joblib'),\n",
        "]\n",
        "\n",
        "simulator.round_robin(agents, num_games=200, min_games=60)"
      ]
    },
    {
      "cell_type": "markdown",
      "metadata": {
        "id": "n5qYorth2Y0u"
      },
      "source": [
        "# Keras Models\n",
        "\n",
        "Instead of using a Decision Tree, I tried using a small neural network to predict bandit payout rates.  \n",
        "I tested different model sizes and found that 3 layers of 12 units performed best, easily well enough for a silver medal."
      ]
    },
    {
      "cell_type": "code",
      "execution_count": null,
      "metadata": {
        "id": "_ET02EfK2Y0u"
      },
      "outputs": [],
      "source": [
        "from sklearn.model_selection import train_test_split, GridSearchCV\n",
        "from tensorflow.keras.callbacks import EarlyStopping, ModelCheckpoint, ReduceLROnPlateau\n",
        "from tensorflow.keras.layers import Input, Dense\n",
        "from tensorflow.keras.models import Model, load_model\n",
        "from tensorflow.keras.optimizers import Adam\n",
        "from tensorflow.keras.wrappers.scikit_learn import KerasRegressor\n",
        "\n",
        "def create_model(n_hidden_layers=1,\n",
        "                 n_units=10,\n",
        "                 activation='sigmoid',\n",
        "                 hidden_activation='elu',\n",
        "                 input_size=4,\n",
        "                 learning_rate=0.01):\n",
        "    input_layer = Input(shape=(input_size,))\n",
        "\n",
        "    for i in range(n_hidden_layers):\n",
        "        if i == 0:\n",
        "            m = Dense(n_units, activation=hidden_activation)(input_layer)\n",
        "        else:\n",
        "            m = Dense(n_units, activation=hidden_activation)(m)\n",
        "\n",
        "    m = Dense(1, activation=activation)(m)\n",
        "\n",
        "    model = Model(inputs=[input_layer], outputs=m)\n",
        "    opt = Adam(learning_rate=learning_rate)\n",
        "    model.compile(optimizer=opt, loss='mean_squared_error')\n",
        "    return model\n"
      ]
    },
    {
      "cell_type": "code",
      "execution_count": null,
      "metadata": {
        "id": "RMBliNA62Y0v",
        "outputId": "786f2559-0a44-4633-8362-6117212c6438"
      },
      "outputs": [
        {
          "name": "stdout",
          "output_type": "stream",
          "text": [
            "Model: \"functional_1\"\n",
            "_________________________________________________________________\n",
            "Layer (type)                 Output Shape              Param #   \n",
            "=================================================================\n",
            "input_1 (InputLayer)         [(None, 7)]               0         \n",
            "_________________________________________________________________\n",
            "dense (Dense)                (None, 12)                96        \n",
            "_________________________________________________________________\n",
            "dense_1 (Dense)              (None, 12)                156       \n",
            "_________________________________________________________________\n",
            "dense_2 (Dense)              (None, 12)                156       \n",
            "_________________________________________________________________\n",
            "dense_3 (Dense)              (None, 1)                 13        \n",
            "=================================================================\n",
            "Total params: 421\n",
            "Trainable params: 421\n",
            "Non-trainable params: 0\n",
            "_________________________________________________________________\n"
          ]
        }
      ],
      "source": [
        "model = create_model(\n",
        "    n_hidden_layers=3,\n",
        "    n_units=12,\n",
        "    hidden_activation='relu',\n",
        "    input_size=7\n",
        ")\n",
        "\n",
        "model.summary()"
      ]
    },
    {
      "cell_type": "code",
      "execution_count": null,
      "metadata": {
        "id": "BimktHB72Y0v"
      },
      "outputs": [],
      "source": [
        "from collections import namedtuple\n",
        "\n",
        "from tensorflow.keras.layers import LeakyReLU\n",
        "\n",
        "Params = namedtuple('Params', ['layers', 'units', 'activation'])\n",
        "\n",
        "params_list = [\n",
        "    Params(3, 12, 'relu'),\n",
        "    Params(4, 12, 'relu'),\n",
        "    Params(3, 16, 'relu'),\n",
        "    Params(4, 16, 'relu'),\n",
        "]\n",
        "\n",
        "files = []\n",
        "\n",
        "for layers, units, activation in params_list:\n",
        "    print(f\"\\nLayers:{layers} Units:{units} Activation:{activation}\")\n",
        "\n",
        "    model = create_model(n_hidden_layers=layers,\n",
        "                         n_units=units,\n",
        "                         hidden_activation=activation,\n",
        "                         activation='sigmoid',\n",
        "                         input_size=7,\n",
        "                         learning_rate=0.01)\n",
        "\n",
        "    filename = f\"keras_models/l{layers}_u{units}_{activation}.h5\"\n",
        "    files.append(filename)\n",
        "\n",
        "    early_stopping = EarlyStopping(patience=5)\n",
        "    mcp = ModelCheckpoint(filename, save_best_only=True)\n",
        "    reduce_lr = ReduceLROnPlateau(monitor='val_loss', factor=0.3, patience=4, verbose=1, min_lr=1e-4)\n",
        "\n",
        "    model.fit(X, y, batch_size=10000, epochs=100, validation_split=0.05, callbacks=[early_stopping, mcp, reduce_lr])\n"
      ]
    },
    {
      "cell_type": "code",
      "execution_count": null,
      "metadata": {
        "id": "fZI9Zgmq2Y0v",
        "outputId": "0c4c6c83-4eef-423e-eb13-3b295ab6c719"
      },
      "outputs": [
        {
          "name": "stdout",
          "output_type": "stream",
          "text": [
            "Keras - keras_models/l3_u8_relu.h5, margin:0.99\n",
            "Keras - keras_models/l3_u12_relu.h5, margin:0.99\n",
            "Results after 66 games: 21-43    P(player_1): 0.33±0.12\n",
            "\n",
            "Keras - keras_models/l2_u8_relu.h5, margin:0.99\n",
            "Keras - keras_models/l3_u12_relu.h5, margin:0.99\n",
            "Results after 60 games: 16-44    P(player_1): 0.27±0.11\n",
            "\n",
            "Keras - keras_models/l2_u8_relu.h5, margin:0.99\n",
            "Keras - keras_models/l3_u8_relu.h5, margin:0.99\n",
            "Results after 60 games: 12-48    P(player_1): 0.20±0.10\n",
            "\n",
            "Keras - keras_models/l3_u16_relu.h5, margin:0.99\n",
            "Keras - keras_models/l4_u16_relu.h5, margin:0.99\n",
            "Results after 60 games: 16-43    P(player_1): 0.27±0.11\n",
            "\n",
            "Keras - keras_models/l4_u12_relu.h5, margin:0.99\n",
            "Keras - keras_models/l4_u16_relu.h5, margin:0.99\n",
            "Results after 66 games: 23-42    P(player_1): 0.35±0.12\n",
            "\n",
            "Keras - keras_models/l4_u12_relu.h5, margin:0.99\n",
            "Keras - keras_models/l3_u16_relu.h5, margin:0.99\n",
            "Results after 60 games: 40-20    P(player_1): 0.67±0.12\n",
            "\n",
            "Keras - keras_models/l3_u12_relu.h5, margin:0.99\n",
            "Keras - keras_models/l4_u16_relu.h5, margin:0.99\n",
            "Results after 150 games: 71-77    P(player_1): 0.48±0.08\n",
            "\n",
            "Keras - keras_models/l3_u12_relu.h5, margin:0.99\n",
            "Keras - keras_models/l4_u12_relu.h5, margin:0.99\n",
            "Results after 60 games: 19-41    P(player_1): 0.32±0.12\n",
            "\n",
            "Keras - keras_models/l3_u12_relu.h5, margin:0.99\n",
            "Keras - keras_models/l3_u16_relu.h5, margin:0.99\n",
            "Results after 150 games: 78-71    P(player_1): 0.52±0.08\n",
            "\n",
            "Keras - keras_models/l3_u8_relu.h5, margin:0.99\n",
            "Keras - keras_models/l3_u16_relu.h5, margin:0.99\n",
            "Results after 60 games: 11-48    P(player_1): 0.19±0.10\n",
            "\n",
            "\n",
            "Final Ranking:\n",
            "Keras - keras_models/l4_u16_relu.h5, margin:0.99\n",
            "Keras - keras_models/l4_u12_relu.h5, margin:0.99\n",
            "Keras - keras_models/l3_u12_relu.h5, margin:0.99\n",
            "Keras - keras_models/l3_u16_relu.h5, margin:0.99\n",
            "Keras - keras_models/l3_u8_relu.h5, margin:0.99\n",
            "Keras - keras_models/l2_u8_relu.h5, margin:0.99\n"
          ]
        }
      ],
      "source": [
        "agents = [\n",
        "    lambda n: KerasAgent(n, filename='keras_models/l2_u8_relu.h5'),\n",
        "    lambda n: KerasAgent(n, filename='keras_models/l3_u8_relu.h5'),\n",
        "    lambda n: KerasAgent(n, filename='keras_models/l3_u12_relu.h5'),\n",
        "    lambda n: KerasAgent(n, filename='keras_models/l4_u12_relu.h5'),\n",
        "    lambda n: KerasAgent(n, filename='keras_models/l3_u16_relu.h5'),\n",
        "    lambda n: KerasAgent(n, filename='keras_models/l4_u16_relu.h5'),\n",
        "]\n",
        "\n",
        "simulator.rank_agents(agents, num_games=150, min_games=60)"
      ]
    },
    {
      "cell_type": "markdown",
      "metadata": {
        "id": "k0kvsWSi2Y0v"
      },
      "source": [
        "# Ensembling\n",
        "\n",
        "Averaging the estimates from a neural network and a decision tree gives a lower RMSE.  \n",
        "Simple ensembles like this did quite well on the leaderboard for a while, but eventually I improved the neural network enough that it did better on its own.  \n",
        "Another example of RMSE not predicting actual performance."
      ]
    },
    {
      "cell_type": "code",
      "execution_count": null,
      "metadata": {
        "id": "kRy57BjH2Y0v",
        "outputId": "de183b25-b8fe-4e99-9a69-d94884bb484b"
      },
      "outputs": [
        {
          "name": "stdout",
          "output_type": "stream",
          "text": [
            "NN Error: 0.10094468149002239\n",
            "DTR Error: 0.10103745235180321\n",
            "Ensemble Error: 0.10056106662675557\n"
          ]
        }
      ],
      "source": [
        "from sklearn.metrics import mean_squared_error\n",
        "from tensorflow.keras.models import load_model\n",
        "\n",
        "nn = load_model('keras_models/l3_u12_relu.h5')\n",
        "dtr = joblib.load('scikit_models/dtr.joblib')\n",
        "\n",
        "y_pred_nn = nn.predict(X, batch_size=20000)\n",
        "y_pred_dtr = dtr.predict(X)\n",
        "y_pred_dtr = np.reshape(y_pred_dtr, (-1, 1))\n",
        "\n",
        "print(\"NN Error:\", np.sqrt(mean_squared_error(y_pred_nn, y)))\n",
        "print(\"DTR Error:\", np.sqrt(mean_squared_error(y_pred_dtr, y)))\n",
        "print(\"Ensemble Error:\", np.sqrt(mean_squared_error((y_pred_nn+y_pred_dtr)/2, y)))"
      ]
    },
    {
      "cell_type": "markdown",
      "metadata": {
        "id": "DU9b6zKk2Y0v"
      },
      "source": [
        "# Effect of Dataset Size on Performance\n",
        "\n",
        "Train decision tree and keras models with increasing dataset sizes and see when they plateau."
      ]
    },
    {
      "cell_type": "code",
      "execution_count": null,
      "metadata": {
        "id": "saIJYe1c2Y0v"
      },
      "outputs": [],
      "source": [
        "from sklearn.tree import DecisionTreeRegressor\n",
        "\n",
        "data_sizes = [\n",
        "    10000000,\n",
        "    20000000,\n",
        "    35000000,\n",
        "    40000000,\n",
        "    44000000,\n",
        "]\n",
        "\n",
        "for num_rows in data_sizes:\n",
        "    X_n = X.head(num_rows)\n",
        "    y_n = y.head(num_rows)\n",
        "\n",
        "    model = create_model(n_hidden_layers=3,\n",
        "                         n_units=12,\n",
        "                         hidden_activation='relu',\n",
        "                         activation='sigmoid',\n",
        "                         input_size=7,\n",
        "                         learning_rate=0.01)\n",
        "\n",
        "    filename = f\"data_size_test/l3_u12_relu_n{num_rows}.h5\"\n",
        "\n",
        "    early_stopping = EarlyStopping(patience=10)\n",
        "    mcp = ModelCheckpoint(filename, save_best_only=True)\n",
        "    reduce_lr = ReduceLROnPlateau(monitor='val_loss', factor=0.1, patience=5, verbose=1, min_lr=1e-4)\n",
        "\n",
        "    model.fit(X_n, y_n, batch_size=10000, epochs=150, validation_split=0.05, callbacks=[early_stopping, mcp, reduce_lr])\n",
        "\n",
        "    dtr = DecisionTreeRegressor(min_samples_leaf=100)\n",
        "    dtr.fit(X_n, y_n)\n",
        "    joblib.dump(dtr, f\"data_size_test/dtr_m100_n{num_rows}.joblib\")\n",
        "\n",
        ""
      ]
    },
    {
      "cell_type": "code",
      "execution_count": null,
      "metadata": {
        "id": "Nn9qAXyX2Y0v"
      },
      "outputs": [],
      "source": [
        "# Rank Keras agents\n",
        "agents = [\n",
        "    lambda n: KerasAgent(n, filename='data_size_test/l3_u12_relu_n10000000.h5'),\n",
        "    lambda n: KerasAgent(n, filename='data_size_test/l3_u12_relu_n20000000.h5'),\n",
        "    lambda n: KerasAgent(n, filename='data_size_test/l3_u12_relu_n35000000.h5'),\n",
        "    lambda n: KerasAgent(n, filename='data_size_test/l3_u12_relu_n40000000.h5'),\n",
        "    lambda n: KerasAgent(n, filename='data_size_test/l3_u12_relu_n44000000.h5'),\n",
        "]\n",
        "\n",
        "simulator.rank_agents(agents, num_games=100, min_games=80)"
      ]
    },
    {
      "cell_type": "code",
      "execution_count": null,
      "metadata": {
        "id": "rnzJNdgY2Y0v"
      },
      "outputs": [],
      "source": [
        "simulator.smoke_test(SklearnAgent(100, filename='scikit_models/dtr.joblib'))\n",
        "\n",
        "agents = [\n",
        "    lambda n: SklearnAgent(100, filename='data_size_test/dtr_m100_n10000000.joblib'),\n",
        "    lambda n: SklearnAgent(100, filename='data_size_test/dtr_m100_n20000000.joblib'),\n",
        "    lambda n: SklearnAgent(100, filename='data_size_test/dtr_m100_n35000000.joblib'),\n",
        "    lambda n: SklearnAgent(100, filename='data_size_test/dtr_m100_n40000000.joblib'),\n",
        "    lambda n: SklearnAgent(100, filename='data_size_test/dtr_m100_n44000000.joblib'),\n",
        "]\n",
        "\n",
        "simulator.rank_agents(agents, num_games=100, min_games=80)"
      ]
    },
    {
      "cell_type": "markdown",
      "metadata": {
        "id": "KdTuzCOM2Y0v"
      },
      "source": [
        "# Classifier Model\n",
        "\n",
        "Make a classifier using weights from a regression model and train it using RL"
      ]
    },
    {
      "cell_type": "code",
      "execution_count": null,
      "metadata": {
        "id": "DG087qoi2Y0v"
      },
      "outputs": [],
      "source": [
        "# create regression model\n",
        "reg_model = create_model(n_hidden_layers=3, n_units=8, activation='sigmoid', input_size=7, learning_rate=0.01)\n",
        "reg_model.summary()\n",
        "\n",
        "reg_model.fit(X, y, batch_size=10000, epochs=100, validation_split=0.05, callbacks=[EarlyStopping(patience=2)])"
      ]
    },
    {
      "cell_type": "code",
      "execution_count": null,
      "metadata": {
        "id": "lTMtV34V2Y0w"
      },
      "outputs": [],
      "source": [
        "# classifier model\n",
        "# takes in a (num_bandits, num_features) array\n",
        "# performs 1D convolutions across the first axis using the regression weights\n",
        "from tensorflow.keras.layers import Conv1D, Softmax\n",
        "\n",
        "def create_classifier_model(n_hidden_layers=3, n_units=12, activation='sigmoid', hidden_activation='relu', input_size=7):\n",
        "\n",
        "    input_layer = Input(shape=(None, input_size))\n",
        "    m = Conv1D(n_units, 1, activation=hidden_activation, trainable=False)(input_layer)\n",
        "    m = Conv1D(n_units, 1, activation=hidden_activation, trainable=False)(m)\n",
        "    m = Conv1D(n_units, 1, activation=hidden_activation, trainable=False)(m)\n",
        "    m = Conv1D(1, 1, activation=activation)(m) # this is the layer trained by RL\n",
        "\n",
        "    clf_model = Model(inputs=[input_layer], outputs=m)\n",
        "    opt = Adam(learning_rate=0.01)\n",
        "    clf_model.compile(optimizer=opt, loss='categorical_crossentropy')\n",
        "\n",
        "    clf_model.summary()\n",
        "\n",
        "    for l in clf_model.layers:\n",
        "        print(l.name, l.trainable)\n",
        "\n",
        "    return clf_model\n"
      ]
    },
    {
      "cell_type": "code",
      "execution_count": null,
      "metadata": {
        "id": "Ad9bUQt82Y0w"
      },
      "outputs": [],
      "source": [
        "# set classifier layers to use regression weights\n",
        "clf_model = create_classifier_model(n_hidden_layers=3, n_units=12, hidden_activation='relu', activation=None)\n",
        "\n",
        "# regression weights need to be reshaped\n",
        "print(\"Layer 1 Classifier weights shape:\", clf_model.layers[1].get_weights()[0].shape)\n",
        "print(\"Layer 1 Regression weights shape:\", reg_model.layers[1].get_weights()[0].shape)\n",
        "\n",
        "for i in range(1, 5):\n",
        "    reg_weights, reg_biases = reg_model.layers[i].get_weights()\n",
        "    clf_shape = clf_model.layers[i].get_weights()[0].shape\n",
        "    reg_weights = np.reshape(reg_weights, clf_shape)\n",
        "    clf_model.layers[i].set_weights([reg_weights, reg_biases])\n",
        "\n",
        "\n",
        "# clf_model.save('rl_models/latest.h5')"
      ]
    },
    {
      "cell_type": "code",
      "execution_count": null,
      "metadata": {
        "id": "Xn9ewEw92Y0w"
      },
      "outputs": [],
      "source": [
        "fake_data = pd.DataFrame(\n",
        "            index=range(10),\n",
        "            columns=['step', 'n_pulls', 'n_success', 'n_opp_pulls', 'streak', 'win_streak', 'opp_streak']\n",
        "        ).fillna(0)\n",
        "fake_data.iloc[0] = [1, 1, 1, 0, 1, 1, 0]\n",
        "pred = clf_model(np.reshape(fake_data.to_numpy(), (1, -1, 7)))[0]\n",
        "# print(pred.numpy())\n",
        "pred = reg_model(fake_data.to_numpy())\n",
        "# print(pred.numpy())\n"
      ]
    },
    {
      "cell_type": "markdown",
      "metadata": {
        "id": "ocNECz-z2Y0w"
      },
      "source": [
        "# Policy Gradient Training"
      ]
    },
    {
      "cell_type": "code",
      "execution_count": null,
      "metadata": {
        "id": "HnS8rUbO2Y0w"
      },
      "outputs": [],
      "source": [
        "import tensorflow.keras as keras\n",
        "import tensorflow as tf\n",
        "import random\n",
        "\n",
        "epsilon = 0.5 # chance of random action\n",
        "\n",
        "def play_one_step(env, obs, agent, model):\n",
        "    agent.update_states(obs)\n",
        "    with tf.GradientTape() as tape:\n",
        "        tf_probs = model(np.reshape(agent.machine_states.to_numpy(), (1, -1, 7)))\n",
        "        tf_probs = tf.reshape(tf_probs, -1)\n",
        "        probs = tf_probs.numpy()\n",
        "        if random.random() < epsilon:\n",
        "            action = random.randrange(len(probs))\n",
        "        else:\n",
        "            action = int(np.argmax(probs))\n",
        "\n",
        "        y_target = np.zeros(len(probs))\n",
        "        y_target[action] = 1\n",
        "        y_target = tf.constant(y_target)\n",
        "        loss = tf.keras.losses.categorical_crossentropy(y_target, tf_probs)\n",
        "\n",
        "    grads = tape.gradient(loss, model.trainable_variables)\n",
        "    obs, reward, done, info = env.step(action)\n",
        "\n",
        "    return obs, reward, done, grads"
      ]
    },
    {
      "cell_type": "code",
      "execution_count": null,
      "metadata": {
        "id": "P7hNWPjL2Y0w"
      },
      "outputs": [],
      "source": [
        "def play_multiple_episodes(env, model, n_episodes):\n",
        "    all_rewards = []\n",
        "    all_grads = []\n",
        "    for episode in range(n_episodes):\n",
        "        current_rewards = []\n",
        "        current_grads = []\n",
        "        agent = ClassifierAgent(100, filename='rl_models/latest.h5')\n",
        "        obs = env.reset()\n",
        "        for step in range(2000):\n",
        "            obs, reward, done, grads = play_one_step(env, obs, agent, model)\n",
        "            current_rewards.append(reward)\n",
        "            current_grads.append(grads)\n",
        "            if done:\n",
        "                break\n",
        "\n",
        "        all_rewards.append(current_rewards)\n",
        "        all_grads.append(current_grads)\n",
        "    return all_rewards, all_grads"
      ]
    },
    {
      "cell_type": "code",
      "execution_count": null,
      "metadata": {
        "id": "UVqhQJ812Y0w"
      },
      "outputs": [],
      "source": [
        "def discount_rewards(rewards, discount_factor):\n",
        "    discounted = np.array(rewards)\n",
        "    for step in range(len(rewards) - 2, -1, -1):\n",
        "        discounted[step] += discount_factor * discounted[step+1]\n",
        "\n",
        "    return discounted\n",
        "\n",
        "def discount_and_normalize_rewards(all_rewards, discount_factor):\n",
        "    all_discounted_rewards = [discount_rewards(r, discount_factor) for r in all_rewards]\n",
        "    flat_rewards = np.concatenate(all_discounted_rewards)\n",
        "    reward_mean = np.mean(flat_rewards)\n",
        "    reward_std = np.std(flat_rewards)\n",
        "\n",
        "    return [(r - reward_mean) / reward_std for r in all_discounted_rewards]"
      ]
    },
    {
      "cell_type": "code",
      "execution_count": null,
      "metadata": {
        "id": "Bt3aGad02Y0w"
      },
      "outputs": [],
      "source": [
        "rewards = [[0, 1, 5, 10, 3], [-10, 5, -20, 5]]\n",
        "\n",
        "print(discount_rewards(rewards[0], 0.97))\n",
        "print(discount_rewards(rewards[1], 0.97))\n",
        "print(discount_and_normalize_rewards(rewards, 0.97))"
      ]
    },
    {
      "cell_type": "code",
      "execution_count": null,
      "metadata": {
        "id": "TQE_jNFZ2Y0w"
      },
      "outputs": [],
      "source": [
        "import random\n",
        "from tqdm import tqdm\n",
        "\n",
        "from kaggle_environments import make\n",
        "\n",
        "discount_factor = 0.97\n",
        "n_episodes_per_update = 3\n",
        "start_iteration = 1\n",
        "num_iterations = 50\n",
        "starting_model = 'rl_models/latest.h5'\n",
        "\n",
        "optimizer = keras.optimizers.Adam(lr=0.01)\n",
        "\n",
        "opponents = [\n",
        "    lambda n: PullVegasAgent(n),\n",
        "    lambda n: ClassifierAgent(n, filename='rl_models/latest.h5')\n",
        "]\n",
        "\n",
        "opponent = None\n",
        "def opp_step(obs, config):\n",
        "    global opponent\n",
        "    if obs.step == 0:\n",
        "        opponent = random.choice(opponents)(100)\n",
        "    return opponent.step(obs, config)\n",
        "\n",
        "env = make(\"mab\", debug=True)\n",
        "trainer = env.train([None, opp_step])\n",
        "\n",
        "model = keras.models.load_model(starting_model)\n",
        "# for l in model.layers:\n",
        "#     l.trainable = True\n",
        "\n",
        "for i in tqdm(range(start_iteration, start_iteration+num_iterations)):\n",
        "    all_rewards, all_grads = play_multiple_episodes(trainer, model, n_episodes_per_update)\n",
        "    all_final_rewards = discount_and_normalize_rewards(all_rewards, discount_factor)\n",
        "    all_mean_grads = []\n",
        "\n",
        "    for var_index in range(len(model.trainable_variables)):\n",
        "        var_grads = []\n",
        "        for episode_index, final_rewards in enumerate(all_final_rewards):\n",
        "            for step, final_reward in enumerate(final_rewards):\n",
        "                grad = all_grads[episode_index][step][var_index]\n",
        "                var_grads.append(final_reward * grad)\n",
        "\n",
        "        mean_grads = tf.reduce_mean(var_grads, axis=0)\n",
        "        all_mean_grads.append(mean_grads)\n",
        "\n",
        "    optimizer.apply_gradients(zip(all_mean_grads, model.trainable_variables))\n",
        "    model.save(f\"rl_models/{i}.h5\")\n",
        "    model.save(f\"rl_models/latest.h5\")\n",
        "\n",
        ""
      ]
    },
    {
      "cell_type": "code",
      "execution_count": null,
      "metadata": {
        "id": "oo4J0ysh2Y0w"
      },
      "outputs": [],
      "source": [
        "agents = [\n",
        "#     lambda n: EnsembleAgent(n, alpha=0.5, keras_file='keras_models/l3_u8_relu.h5', scikit_file='scikit_models/dtr.joblib'),\n",
        "#     lambda n: ClassifierAgent(n, filename='rl_models/130.h5'),\n",
        "#     lambda n: KerasAgent(n, filename='keras_models/l3_u8_relu.h5'),\n",
        "    lambda n: ClassifierAgent(n, filename='rl_models/latest.h5'),\n",
        "    lambda n: ClassifierAgent(n, filename='rl_models/0.h5'),\n",
        "#     lambda n: ClassifierAgent(n, filename='rl_models/relu/21.h5'),\n",
        "#     lambda n: UcbAgent(),\n",
        "#     lambda n: PullVegasAgent(100),\n",
        "]\n",
        "\n",
        "round_robin(agents, num_games=100, min_games=20)"
      ]
    },
    {
      "cell_type": "code",
      "execution_count": null,
      "metadata": {
        "id": "1NYjIfnu2Y0w"
      },
      "outputs": [],
      "source": []
    },
    {
      "cell_type": "markdown",
      "metadata": {
        "heading_collapsed": true,
        "id": "Ha0fMyjK2Y0x"
      },
      "source": [
        "# Testing in Kaggle Environment\n",
        "Not ideal for performance testing, but double-checks that they'll work online"
      ]
    },
    {
      "cell_type": "code",
      "execution_count": null,
      "metadata": {
        "hidden": true,
        "scrolled": true,
        "id": "dyA51C2D2Y0z"
      },
      "outputs": [],
      "source": [
        "from kaggle_environments import make\n",
        "env = make(\"mab\", debug=True)\n",
        "\n",
        "env.reset()\n",
        "env.run([ \"decision_tree.py\", \"keras_agent.py\"])\n",
        "print(env)\n",
        "env.render(mode=\"ipython\", width=800, height=700)\n"
      ]
    },
    {
      "cell_type": "markdown",
      "metadata": {
        "heading_collapsed": true,
        "id": "tFEnskWe2Y0z"
      },
      "source": [
        "# Submit Agent\n",
        "\n",
        "Quick script to make a tar.gz file and upload it to kaggle"
      ]
    },
    {
      "cell_type": "code",
      "execution_count": null,
      "metadata": {
        "hidden": true,
        "id": "smvqEFnj2Y00"
      },
      "outputs": [],
      "source": [
        "from kaggle.api.kaggle_api_extended import KaggleApi\n",
        "\n",
        "\n",
        "def submit_agent(agent_file, keras_file, sub_name, message, scikit_file = None):\n",
        "\n",
        "    assert os.path.exists(agent_file), \"Agent file not found\"\n",
        "    assert os.path.exists(keras_file), \"Keras file not found\"\n",
        "\n",
        "    os.system(f\"cp {agent_file} main.py\")\n",
        "    os.system(f\"cp {keras_file} model.h5\")\n",
        "    if scikit_file:\n",
        "        assert os.path.exists(scikit_file), \"Scikit file not found\"\n",
        "\n",
        "        os.system(f\"cp {scikit_file} model.joblib\")\n",
        "        os.system(f\"tar cvfz submissions/{sub_name}.tar.gz main.py model.h5 model.joblib\")\n",
        "        os.system(f\"rm model.joblib\")\n",
        "    else:\n",
        "        os.system(f\"tar cvfz submissions/{sub_name}.tar.gz main.py model.h5\")\n",
        "\n",
        "    os.system(f\"rm main.py\")\n",
        "    os.system(f\"rm model.h5\")\n",
        "\n",
        "    api = KaggleApi()\n",
        "    api.authenticate()\n",
        "\n",
        "    api.competition_submit(f\"submissions/{sub_name}.tar.gz\", message,'santa-2020')\n",
        "\n",
        "version='l4_u16_relu'\n",
        "# submit_model(\"agents/classifier.py\", f\"rl_models/{version}.h5\", f\"classifier_elu_{version}\", f\"RL classifier with ELU activation after {version} iterations\")\n",
        "# submit_agent(\"agents/keras.py\", f\"keras_models/{version}.h5\", f\"keras_{version}\", f\"Keras Regressor {version}\")\n",
        "# submit_agent(\"agents/ensemble.py\",\n",
        "#              f\"keras_models/{version}.h5\",\n",
        "#              f\"ensemble_a05_{version}_dtr\",\n",
        "#              f\"Ensemble a0.5 {version} DTR\",\n",
        "#              scikit_file='data_size_test/dtr_m100_n30000000.joblib')\n",
        "\n"
      ]
    }
  ],
  "metadata": {
    "kernelspec": {
      "display_name": "Python 3",
      "language": "python",
      "name": "python3"
    },
    "language_info": {
      "codemirror_mode": {
        "name": "ipython",
        "version": 3
      },
      "file_extension": ".py",
      "mimetype": "text/x-python",
      "name": "python",
      "nbconvert_exporter": "python",
      "pygments_lexer": "ipython3",
      "version": "3.8.5"
    },
    "colab": {
      "provenance": []
    }
  },
  "nbformat": 4,
  "nbformat_minor": 0
}